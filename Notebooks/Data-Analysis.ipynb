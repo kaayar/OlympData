{
 "cells": [
  {
   "cell_type": "code",
   "execution_count": 61,
   "id": "eac40f18",
   "metadata": {},
   "outputs": [],
   "source": [
    "import numpy as np\n",
    "import pandas as pd\n",
    "import seaborn as sns\n",
    "import matplotlib\n",
    "import matplotlib.pyplot as plt\n",
    "from bokeh.plotting import figure, output_file, save\n",
    "from sklearn import preprocessing"
   ]
  },
  {
   "cell_type": "code",
   "execution_count": 106,
   "id": "6687bb4b",
   "metadata": {},
   "outputs": [
    {
     "name": "stdout",
     "output_type": "stream",
     "text": [
      "<class 'pandas.core.frame.DataFrame'>\n",
      "RangeIndex: 271116 entries, 0 to 271115\n",
      "Data columns (total 15 columns):\n",
      " #   Column  Non-Null Count   Dtype  \n",
      "---  ------  --------------   -----  \n",
      " 0   ID      271116 non-null  int64  \n",
      " 1   Name    271116 non-null  object \n",
      " 2   Sex     271116 non-null  object \n",
      " 3   Age     261642 non-null  float64\n",
      " 4   Height  210945 non-null  float64\n",
      " 5   Weight  208241 non-null  float64\n",
      " 6   Team    271116 non-null  object \n",
      " 7   NOC     271116 non-null  object \n",
      " 8   Games   271116 non-null  object \n",
      " 9   Year    271116 non-null  int64  \n",
      " 10  Season  271116 non-null  object \n",
      " 11  City    271116 non-null  object \n",
      " 12  Sport   271116 non-null  object \n",
      " 13  Event   271116 non-null  object \n",
      " 14  Medal   39783 non-null   object \n",
      "dtypes: float64(3), int64(2), object(10)\n",
      "memory usage: 31.0+ MB\n"
     ]
    }
   ],
   "source": [
    "#Read data\n",
    "df=pd.read_csv('C:/Users/crash/Desktop/Dev Projects/Hackathon/GFG Olympics/Data/athlete_events.csv')\n",
    "df.info()"
   ]
  },
  {
   "cell_type": "code",
   "execution_count": 107,
   "id": "fb0c7f10",
   "metadata": {},
   "outputs": [],
   "source": [
    "label_encoder = preprocessing.LabelEncoder()"
   ]
  },
  {
   "cell_type": "code",
   "execution_count": 108,
   "id": "907e3750",
   "metadata": {},
   "outputs": [],
   "source": [
    "Team_list=df['Team'].unique()\n",
    "NOC_list=df['NOC'].unique()\n",
    "Games_list=df['Games'].unique()\n",
    "Season_list=df['Season'].unique()\n",
    "City_list=df['City'].unique()\n",
    "Sport_list=df['Sport'].unique()\n",
    "Event_list=df['Event'].unique()\n",
    "Medal_list=df['Medal'].unique()\n",
    "Team_list.sort()\n",
    "NOC_list.sort()\n",
    "Games_list.sort()\n",
    "Season_list.sort()\n",
    "City_list.sort()\n",
    "Sport_list.sort()\n",
    "Event_list.sort()\n",
    "Medal_list=Medal_list[1:4]\n",
    "Medal_list.sort()"
   ]
  },
  {
   "cell_type": "code",
   "execution_count": 104,
   "id": "e8bdc77c",
   "metadata": {},
   "outputs": [],
   "source": [
    "df['Sex']=label_encoder.fit_transform(df['Sex'])\n",
    "df['Team']=label_encoder.fit_transform(df['Team'])\n",
    "df['NOC']=label_encoder.fit_transform(df['NOC'])\n",
    "df['Games']=label_encoder.fit_transform(df['Games'])\n",
    "df['Season']=label_encoder.fit_transform(df['Season'])\n",
    "df['City']=label_encoder.fit_transform(df['City'])\n",
    "df['Sport']=label_encoder.fit_transform(df['Sport'])\n",
    "df['Event']=label_encoder.fit_transform(df['Event'])\n",
    "df['Medal']=label_encoder.fit_transform(df['Medal'])"
   ]
  },
  {
   "cell_type": "code",
   "execution_count": 109,
   "id": "d26c5f89",
   "metadata": {},
   "outputs": [
    {
     "data": {
      "text/plain": [
       "array([1896, 1900, 1904, 1906, 1908, 1912, 1920, 1924, 1928, 1932, 1936,\n",
       "       1948, 1952, 1956, 1960, 1964, 1968, 1972, 1976, 1980, 1984, 1988,\n",
       "       1992, 1994, 1996, 1998, 2000, 2002, 2004, 2006, 2008, 2010, 2012,\n",
       "       2014, 2016], dtype=int64)"
      ]
     },
     "execution_count": 109,
     "metadata": {},
     "output_type": "execute_result"
    }
   ],
   "source": [
    "years=df['Year'].unique()\n",
    "years.sort()\n",
    "years"
   ]
  },
  {
   "cell_type": "code",
   "execution_count": 113,
   "id": "cf8f6adf",
   "metadata": {},
   "outputs": [
    {
     "name": "stdout",
     "output_type": "stream",
     "text": [
      "Completeness in data for year 1896 =  76.64473684210526\n",
      "Completeness in data for year 1900 =  75.03873966942149\n",
      "Completeness in data for year 1904 =  78.66384832180374\n",
      "Completeness in data for year 1906 =  75.85112521638777\n",
      "Completeness in data for year 1908 =  78.06352789422768\n",
      "Completeness in data for year 1912 =  79.33580858085809\n",
      "Completeness in data for year 1920 =  78.30265610438025\n",
      "Completeness in data for year 1924 =  77.17225832894198\n",
      "Completeness in data for year 1928 =  77.3217916517163\n",
      "Completeness in data for year 1932 =  80.45016561276724\n",
      "Completeness in data for year 1936 =  78.36778813673828\n",
      "Completeness in data for year 1948 =  77.37410873440285\n",
      "Completeness in data for year 1952 =  79.56917432499822\n",
      "Completeness in data for year 1956 =  82.47461402963424\n",
      "Completeness in data for year 1960 =  90.60909583107743\n",
      "Completeness in data for year 1964 =  91.46448663853727\n",
      "Completeness in data for year 1968 =  92.31558354804848\n",
      "Completeness in data for year 1972 =  92.10427293251944\n",
      "Completeness in data for year 1976 =  91.415127277344\n",
      "Completeness in data for year 1980 =  91.88206333221439\n",
      "Completeness in data for year 1984 =  91.86874352778736\n",
      "Completeness in data for year 1988 =  91.59512128645407\n",
      "Completeness in data for year 1992 =  89.46008245496456\n",
      "Completeness in data for year 1994 =  91.54272151898734\n",
      "Completeness in data for year 1996 =  90.54305757135945\n",
      "Completeness in data for year 1998 =  92.28617660656495\n",
      "Completeness in data for year 2000 =  92.72423606589007\n",
      "Completeness in data for year 2002 =  92.48195019063843\n",
      "Completeness in data for year 2004 =  92.86183639564581\n",
      "Completeness in data for year 2006 =  92.62513312034079\n",
      "Completeness in data for year 2008 =  92.73023574964466\n",
      "Completeness in data for year 2010 =  92.60184764500984\n",
      "Completeness in data for year 2012 =  92.57804437564499\n",
      "Completeness in data for year 2014 =  92.27833435561917\n",
      "Completeness in data for year 2016 =  92.65536723163842\n"
     ]
    }
   ],
   "source": [
    "#Get completeness of data for each year\n",
    "completeness_array=[]\n",
    "for i in range(len(years)):\n",
    "    var=df.loc[df[\"Year\"]==years[i]].isna().sum().sum()\n",
    "    varlen=len(df.loc[df[\"Year\"]==years[i]])\n",
    "    completeness=100-(((var/varlen)*100)/12)\n",
    "    print(\"Completeness in data for year {:04d} = \".format(years[i]),end=\" \")\n",
    "    print(completeness)\n",
    "    completeness_array.append(completeness)"
   ]
  },
  {
   "cell_type": "code",
   "execution_count": 130,
   "id": "b0bc9629",
   "metadata": {},
   "outputs": [
    {
     "data": {
      "text/plain": [
       "'C:\\\\Users\\\\crash\\\\Desktop\\\\Dev Projects\\\\Hackathon\\\\GFG Olympics\\\\Notebooks\\\\seaborn_plot_json.json'"
      ]
     },
     "execution_count": 130,
     "metadata": {},
     "output_type": "execute_result"
    },
    {
     "data": {
      "image/png": "[encoded data removed]",
      "text/plain": [
       "<Figure size 1080x648 with 1 Axes>"
      ]
     },
     "metadata": {},
     "output_type": "display_data"
    }
   ],
   "source": [
    "completeness_year={'completeness':completeness_array,'year':years}\n",
    "completeness_df=pd.DataFrame(completeness_year)\n",
    "sns.lineplot(x=\"year\",y=\"completeness\",data=completeness_df)\n",
    "sns.set(rc={'figure.figsize':(15,9)})"
   ]
  },
  {
   "cell_type": "code",
   "execution_count": 116,
   "id": "84910e66",
   "metadata": {},
   "outputs": [
    {
     "name": "stdout",
     "output_type": "stream",
     "text": [
      "<class 'pandas.core.frame.DataFrame'>\n",
      "RangeIndex: 271116 entries, 0 to 271115\n",
      "Data columns (total 15 columns):\n",
      " #   Column  Non-Null Count   Dtype  \n",
      "---  ------  --------------   -----  \n",
      " 0   ID      271116 non-null  int64  \n",
      " 1   Name    271116 non-null  object \n",
      " 2   Sex     271116 non-null  object \n",
      " 3   Age     261642 non-null  float64\n",
      " 4   Height  210945 non-null  float64\n",
      " 5   Weight  208241 non-null  float64\n",
      " 6   Team    271116 non-null  object \n",
      " 7   NOC     271116 non-null  object \n",
      " 8   Games   271116 non-null  object \n",
      " 9   Year    271116 non-null  int64  \n",
      " 10  Season  271116 non-null  object \n",
      " 11  City    271116 non-null  object \n",
      " 12  Sport   271116 non-null  object \n",
      " 13  Event   271116 non-null  object \n",
      " 14  Medal   39783 non-null   object \n",
      "dtypes: float64(3), int64(2), object(10)\n",
      "memory usage: 31.0+ MB\n"
     ]
    }
   ],
   "source": [
    "df.info()"
   ]
  }
 ],
 "metadata": {
  "kernelspec": {
   "display_name": "Python 3 (ipykernel)",
   "language": "python",
   "name": "python3"
  },
  "language_info": {
   "codemirror_mode": {
    "name": "ipython",
    "version": 3
   },
   "file_extension": ".py",
   "mimetype": "text/x-python",
   "name": "python",
   "nbconvert_exporter": "python",
   "pygments_lexer": "ipython3",
   "version": "3.11.1"
  }
 },
 "nbformat": 4,
 "nbformat_minor": 5
}
